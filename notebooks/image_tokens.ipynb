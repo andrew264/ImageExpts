{
 "cells": [
  {
   "cell_type": "code",
   "id": "initial_id",
   "metadata": {
    "collapsed": true,
    "ExecuteTime": {
     "end_time": "2024-07-12T11:03:46.713680Z",
     "start_time": "2024-07-12T11:03:43.597886Z"
    }
   },
   "source": [
    "import torch\n",
    "from model import VQModel\n",
    "\n",
    "torch.set_float32_matmul_precision('high')\n",
    "\n",
    "model = VQModel()\n",
    "sd = torch.load('../weights/vqgan.ckpt', map_location='cpu')['state_dict']\n",
    "model.load_state_dict(sd, strict=False)\n",
    "model.bfloat16().cuda()\n",
    "\n",
    "from model.vqgan.image_tokenizer import ImageTokenizer\n",
    "tokenizer = ImageTokenizer(model)\n",
    "torch.cuda.empty_cache()"
   ],
   "outputs": [
    {
     "name": "stdout",
     "output_type": "stream",
     "text": [
      "Working with z of shape (1, 256, 32, 32) = 262144 dimensions.\n"
     ]
    }
   ],
   "execution_count": 1
  },
  {
   "metadata": {
    "ExecuteTime": {
     "end_time": "2024-07-12T11:03:51.268349Z",
     "start_time": "2024-07-12T11:03:50.842992Z"
    }
   },
   "cell_type": "code",
   "source": [
    "import datasets\n",
    "from torch.utils.data import DataLoader\n",
    "\n",
    "dataset = datasets.load_dataset('/home/andrew264/datasets/imagenet-1k', streaming=True, trust_remote_code=True,\n",
    "                                    split='train')\n",
    "\n",
    "def transform(examples):\n",
    "    return {'image': [tokenizer.img_tokens_from_pil(examples['image'])]}\n",
    "\n",
    "dataset = dataset.map(transform, batched=True, batch_size=4, remove_columns=['label'])\n",
    "dataloader = DataLoader(dataset, batch_size=25, num_workers=0)"
   ],
   "id": "6f80414e0c03b4e8",
   "outputs": [],
   "execution_count": 2
  },
  {
   "metadata": {
    "ExecuteTime": {
     "end_time": "2024-07-12T11:03:51.911413Z",
     "start_time": "2024-07-12T11:03:51.907672Z"
    }
   },
   "cell_type": "code",
   "source": [
    "import os\n",
    "import numpy as np\n",
    "\n",
    "\n",
    "def write_datafile(f_name: str, toks: np.ndarray):\n",
    "    \"\"\"\n",
    "    Saves token data as a .bin file\n",
    "    \"\"\"\n",
    "    print(f\"writing {len(toks):,} tokens to {f_name}\")\n",
    "    with open(os.path.join('../data/imagenet/', f_name), 'wb') as f:\n",
    "        f.write(toks.tobytes())"
   ],
   "id": "d8565ddb211a728e",
   "outputs": [],
   "execution_count": 3
  },
  {
   "metadata": {
    "jupyter": {
     "is_executing": true
    },
    "ExecuteTime": {
     "start_time": "2024-07-12T11:03:57.901094Z"
    }
   },
   "cell_type": "code",
   "source": [
    "import tqdm\n",
    "\n",
    "images_per_shard = int(1e5)\n",
    "per_image_size = 1024\n",
    "\n",
    "all_np_tokens = np.empty((per_image_size*images_per_shard), dtype=np.uint16)\n",
    "index = 0\n",
    "\n",
    "for batch in tqdm.tqdm(dataloader):\n",
    "    img_tokens = batch['image'].view(-1)\n",
    "    img_tokens = img_tokens.cpu().numpy().astype(np.uint16)\n",
    "    batch_size = len(img_tokens)\n",
    "\n",
    "    if index + batch_size > len(all_np_tokens):\n",
    "        write_datafile(f\"tokens_shard_{index // (per_image_size*images_per_shard)}.bin\", all_np_tokens[:index])\n",
    "        all_np_tokens = np.empty((per_image_size*images_per_shard), dtype=np.uint16)\n",
    "        index = 0\n",
    "    \n",
    "    all_np_tokens[index:index+batch_size] = img_tokens\n",
    "    index += batch_size\n",
    "\n",
    "if index > 0:\n",
    "    write_datafile(f\"tokens_shard_{index // (per_image_size*images_per_shard)}.bin\", all_np_tokens[:index])\n",
    "\n",
    "print(\"Token writing process completed.\")"
   ],
   "id": "90d667a26e46364c",
   "outputs": [
    {
     "name": "stderr",
     "output_type": "stream",
     "text": [
      "0it [00:00, ?it/s]"
     ]
    }
   ],
   "execution_count": null
  },
  {
   "metadata": {},
   "cell_type": "code",
   "source": [
    "with open('../data/tokens_shard_1.bin', 'rb') as f:\n",
    "    data = f.read()\n",
    "    tokens = np.frombuffer(data, dtype=np.uint16).reshape(-1, 1024)\n",
    "    print(tokens.shape)"
   ],
   "id": "33b3bcc1a954b0ba",
   "outputs": [],
   "execution_count": null
  },
  {
   "metadata": {},
   "cell_type": "code",
   "source": "torch.tensor(tokens[-100])",
   "id": "eb49d8a43fb0b22e",
   "outputs": [],
   "execution_count": null
  },
  {
   "metadata": {},
   "cell_type": "code",
   "source": "tokenizer.pil_from_img_toks(torch.tensor(tokens[-100]).unsqueeze(0).int().cuda())[0]",
   "id": "6da599e6ab8ab143",
   "outputs": [],
   "execution_count": null
  }
 ],
 "metadata": {
  "kernelspec": {
   "display_name": "Python 3",
   "language": "python",
   "name": "python3"
  },
  "language_info": {
   "codemirror_mode": {
    "name": "ipython",
    "version": 2
   },
   "file_extension": ".py",
   "mimetype": "text/x-python",
   "name": "python",
   "nbconvert_exporter": "python",
   "pygments_lexer": "ipython2",
   "version": "2.7.6"
  }
 },
 "nbformat": 4,
 "nbformat_minor": 5
}
